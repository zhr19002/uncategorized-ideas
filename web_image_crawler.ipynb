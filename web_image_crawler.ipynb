{
 "cells": [
  {
   "cell_type": "markdown",
   "id": "fe579469-f10d-47b9-9c9d-5997a463bc45",
   "metadata": {},
   "source": [
    "### Set up parameters"
   ]
  },
  {
   "cell_type": "code",
   "execution_count": 1,
   "id": "7962e4d2-eab1-4bcf-b855-cf197e008711",
   "metadata": {},
   "outputs": [],
   "source": [
    "import requests\n",
    "from PIL import Image\n",
    "from io import BytesIO\n",
    "\n",
    "# Change file path\n",
    "path = 'C:\\\\Users\\\\zhr19002\\\\Downloads\\\\'\n",
    "# Cropped image pixels\n",
    "px = 105 # Adjust this parameter to get better quality, range = [105, 117]"
   ]
  },
  {
   "cell_type": "markdown",
   "id": "1d7ce6ba-931b-43ad-bbf2-c0b352a55fa1",
   "metadata": {},
   "source": [
    "### Get all URLs without specifying coordinates"
   ]
  },
  {
   "cell_type": "code",
   "execution_count": 2,
   "id": "d463f9aa-250e-49e1-99b7-b4d4659e4a89",
   "metadata": {},
   "outputs": [
    {
     "data": {
      "text/plain": [
       "['http://magnifier.flashphotography.com/MagnifyRender.ashx?X={}&Y={}&O=27226345&R=00001&F=0223&A=71714',\n",
       " 'http://magnifier.flashphotography.com/MagnifyRender.ashx?X={}&Y={}&O=27226345&R=00003&F=0742&A=71714',\n",
       " 'http://magnifier.flashphotography.com/MagnifyRender.ashx?X={}&Y={}&O=27226345&R=00003&F=0743&A=71714',\n",
       " 'http://magnifier.flashphotography.com/MagnifyRender.ashx?X={}&Y={}&O=27226345&R=00003&F=0744&A=71714',\n",
       " 'http://magnifier.flashphotography.com/MagnifyRender.ashx?X={}&Y={}&O=27226345&R=00006&F=1031&A=71714',\n",
       " 'http://magnifier.flashphotography.com/MagnifyRender.ashx?X={}&Y={}&O=27226345&R=00006&F=1032&A=71714',\n",
       " 'http://magnifier.flashphotography.com/MagnifyRender.ashx?X={}&Y={}&O=27226345&R=00007&F=1031&A=71714',\n",
       " 'http://magnifier.flashphotography.com/MagnifyRender.ashx?X={}&Y={}&O=27226345&R=00007&F=1032&A=71714',\n",
       " 'http://magnifier.flashphotography.com/MagnifyRender.ashx?X={}&Y={}&O=27226345&R=00008&F=1031&A=71714',\n",
       " 'http://magnifier.flashphotography.com/MagnifyRender.ashx?X={}&Y={}&O=27226345&R=00008&F=1032&A=71714',\n",
       " 'http://magnifier.flashphotography.com/MagnifyRender.ashx?X={}&Y={}&O=27226345&R=00009&F=1031&A=71714',\n",
       " 'http://magnifier.flashphotography.com/MagnifyRender.ashx?X={}&Y={}&O=27226345&R=00009&F=1032&A=71714',\n",
       " 'http://magnifier.flashphotography.com/MagnifyRender.ashx?X={}&Y={}&O=27226345&R=00010&F=1031&A=71714',\n",
       " 'http://magnifier.flashphotography.com/MagnifyRender.ashx?X={}&Y={}&O=27226345&R=00010&F=1032&A=71714',\n",
       " 'http://magnifier.flashphotography.com/MagnifyRender.ashx?X={}&Y={}&O=27226345&R=00011&F=1031&A=71714',\n",
       " 'http://magnifier.flashphotography.com/MagnifyRender.ashx?X={}&Y={}&O=27226345&R=00011&F=1032&A=71714',\n",
       " 'http://magnifier.flashphotography.com/MagnifyRender.ashx?X={}&Y={}&O=27226345&R=00012&F=1031&A=71714',\n",
       " 'http://magnifier.flashphotography.com/MagnifyRender.ashx?X={}&Y={}&O=27226345&R=00012&F=1032&A=71714',\n",
       " 'http://magnifier.flashphotography.com/MagnifyRender.ashx?X={}&Y={}&O=27226345&R=00013&F=1031&A=71714',\n",
       " 'http://magnifier.flashphotography.com/MagnifyRender.ashx?X={}&Y={}&O=27226345&R=00013&F=1032&A=71714',\n",
       " 'http://magnifier.flashphotography.com/MagnifyRender.ashx?X={}&Y={}&O=27226345&R=00014&F=1031&A=71714',\n",
       " 'http://magnifier.flashphotography.com/MagnifyRender.ashx?X={}&Y={}&O=27226345&R=00014&F=1032&A=71714',\n",
       " 'http://magnifier.flashphotography.com/MagnifyRender.ashx?X={}&Y={}&O=27226345&R=00015&F=1031&A=71714',\n",
       " 'http://magnifier.flashphotography.com/MagnifyRender.ashx?X={}&Y={}&O=27226345&R=00015&F=1032&A=71714']"
      ]
     },
     "execution_count": 2,
     "metadata": {},
     "output_type": "execute_result"
    }
   ],
   "source": [
    "pre_url = 'http://magnifier.flashphotography.com/MagnifyRender.ashx?X={}&Y={}&O=27226345&'\n",
    "mid_urls = ['R=00001&F=0223','R=00003&F=0742','R=00003&F=0743','R=00003&F=0744']\n",
    "post_url = '&A=71714'\n",
    "\n",
    "for R in range(6,16):\n",
    "    for F in range(1031,1033):\n",
    "        mid_urls.append('R=' + str(R).zfill(5) + '&F=' + str(F))\n",
    "\n",
    "urls = [pre_url + url + post_url for url in mid_urls]\n",
    "urls"
   ]
  },
  {
   "cell_type": "markdown",
   "id": "b32fdd50-715d-499a-82c2-bc9debfad85c",
   "metadata": {},
   "source": [
    "### Functions: Get and process images from above URLs using specific coordinates"
   ]
  },
  {
   "cell_type": "code",
   "execution_count": 3,
   "id": "2ba0ebc0-9937-44c8-a51f-93f098d43a61",
   "metadata": {},
   "outputs": [],
   "source": [
    "# Fuction: Get and crop an image from a URL with specified coordinates\n",
    "def image_crop(url_0, x, y):\n",
    "    url_1 = url_0.format(x, y)\n",
    "    content = requests.get(url_1).content\n",
    "    img = Image.open(BytesIO(content))\n",
    "    crop_img = img.crop((36,36,153,153)) # Grab 117*117 px\n",
    "    return crop_img\n",
    "\n",
    "# Function: Concatenate multiple images\n",
    "def image_concat(imgs, xs, ys):\n",
    "    target = Image.new('RGB', (px*len(xs), px*len(ys)))\n",
    "    for i in range(len(xs)):\n",
    "        for j in range(len(ys)):\n",
    "            target.paste(imgs[len(ys)*i+j], (px*i, px*j))\n",
    "            edge_px = (117-px)//2\n",
    "            crop_target = target.crop((edge_px,edge_px,480+edge_px,630+edge_px)) # Actual image size\n",
    "    return crop_target"
   ]
  },
  {
   "cell_type": "markdown",
   "id": "514f33d7-f674-4e4d-9442-fbadd4bcef41",
   "metadata": {},
   "source": [
    "### Save high-resolution pictures"
   ]
  },
  {
   "cell_type": "code",
   "execution_count": 4,
   "id": "582579ef-c1c7-42f5-86a5-ab256a40cf82",
   "metadata": {},
   "outputs": [],
   "source": [
    "# It is wise to preload web pages with images to be processed to avoid unforseen errors\n",
    "if __name__ == '__main__':\n",
    "    # Center point coordinates\n",
    "    px0 = px//2\n",
    "    xs = range(px0, px0+px*5, px)\n",
    "    ys = range(px0, px0+px*6, px)\n",
    "    \n",
    "    # Run functions and save high-resolution pictures\n",
    "    for ii in range(len(urls)):\n",
    "        imgs = []\n",
    "        for x in xs:\n",
    "            for y in ys:\n",
    "                imgs.append(image_crop(urls[ii], x, y))\n",
    "        \n",
    "        picture = image_concat(imgs, xs, ys)\n",
    "        picture.save(path + 'picture_' + str(ii+1) + '.jpg', quality=95)"
   ]
  },
  {
   "cell_type": "code",
   "execution_count": null,
   "id": "5f725626-5575-4796-9ccd-3cd457e3f4c5",
   "metadata": {},
   "outputs": [],
   "source": []
  }
 ],
 "metadata": {
  "kernelspec": {
   "display_name": "Python 3 (ipykernel)",
   "language": "python",
   "name": "python3"
  },
  "language_info": {
   "codemirror_mode": {
    "name": "ipython",
    "version": 3
   },
   "file_extension": ".py",
   "mimetype": "text/x-python",
   "name": "python",
   "nbconvert_exporter": "python",
   "pygments_lexer": "ipython3",
   "version": "3.11.7"
  }
 },
 "nbformat": 4,
 "nbformat_minor": 5
}
