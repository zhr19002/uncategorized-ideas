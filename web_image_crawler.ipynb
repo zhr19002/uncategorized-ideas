{
 "cells": [
  {
   "cell_type": "markdown",
   "id": "38a4e1b4-570b-4fd9-b00c-c9d452f96090",
   "metadata": {},
   "source": [
    "### Get all URLs without specifying coordinates"
   ]
  },
  {
   "cell_type": "code",
   "execution_count": 1,
   "id": "7962e4d2-eab1-4bcf-b855-cf197e008711",
   "metadata": {},
   "outputs": [],
   "source": [
    "import math\n",
    "import requests\n",
    "import numpy as np\n",
    "from PIL import Image\n",
    "from io import BytesIO\n",
    "import matplotlib.pyplot as plt\n",
    "\n",
    "# Change file path\n",
    "path = 'C:\\\\Users\\\\XXX\\\\Downloads\\\\'\n",
    "\n",
    "# Get all URLs\n",
    "pre_url = 'http://magnifier.flashphotography.com/MagnifyRender.ashx?X={}&Y={}&O=27226345&'\n",
    "mid_urls = ['R=00001&F=0223','R=00003&F=0742','R=00003&F=0743','R=00003&F=0744']\n",
    "post_url = '&A=71714'\n",
    "\n",
    "for R in range(6,16):\n",
    "    for F in range(1031,1033):\n",
    "        mid_urls.append('R=' + str(R).zfill(5) + '&F=' + str(F))\n",
    "\n",
    "urls = [pre_url + url + post_url for url in mid_urls]"
   ]
  },
  {
   "cell_type": "markdown",
   "id": "d437eb29-264b-4bdd-8996-3cf15add5835",
   "metadata": {},
   "source": [
    "### Functions: Coordinates capture and image processing"
   ]
  },
  {
   "cell_type": "code",
   "execution_count": 2,
   "id": "a7b3840c-2f98-4552-88cb-c3df22319265",
   "metadata": {},
   "outputs": [],
   "source": [
    "# Function: Center point coordinates capture\n",
    "def coordinates_capture(overlap_w, overlap_h):\n",
    "    num_w = math.ceil((480 - overlap_w) / (117 - overlap_w))\n",
    "    num_h = math.ceil((630 - overlap_h) / (117 - overlap_h))\n",
    "    xs = [57 + (117-overlap_w)*i for i in range(num_w)]\n",
    "    ys = [58 + (117-overlap_h)*j for j in range(num_h)]\n",
    "    return xs, ys\n",
    "\n",
    "# Fuction: Image cropping\n",
    "def image_crop(url0, x, y):\n",
    "    url1 = url0.format(x, y)\n",
    "    content = requests.get(url1).content\n",
    "    img = Image.open(BytesIO(content))\n",
    "    crop_img = img.crop((36,36,153,153)) # Grab 117*117 px\n",
    "    return crop_img\n",
    "\n",
    "# Function: Concatenate multiple images\n",
    "def image_concat(imgs, xs, ys):\n",
    "    target = Image.new('RGB', (480, 630))\n",
    "    for i in range(len(xs)):\n",
    "        for j in range(len(ys)):\n",
    "            target.paste(imgs[len(ys)*i+j], (xs[i]-58, ys[j]-58))\n",
    "    return target\n",
    "\n",
    "# Fuction: Image stitching (up and down)\n",
    "def image_stitch_UD(img1, img2, overlap, k):\n",
    "    img1, img2 = np.float32(img1), np.float32(img2)\n",
    "    # Calculate weights for each image\n",
    "    w = 1 / (1 + np.exp(-k*np.arange(-overlap/2, overlap/2)))\n",
    "    weights1 = w[::-1].reshape(-1, 1, 1)  # Weight for img1 decreases\n",
    "    weights2 = w.reshape(-1, 1, 1)  # Weight for img2 increases\n",
    "    # Apply weighted smoothing to eliminate seams\n",
    "    seam_smoothed = img1[-overlap:, :] * weights1 + img2[:overlap, :] * weights2\n",
    "    # Combine images with only non-overlapping regions from each\n",
    "    result = np.vstack((img1[:-overlap, :], seam_smoothed, img2[overlap:, :]))\n",
    "    target = Image.fromarray(np.uint8(result))\n",
    "    return target\n",
    "\n",
    "# Fuction: Image stitching (left and right)\n",
    "def image_stitch_LR(img1, img2, overlap, k):\n",
    "    img1, img2 = np.float32(img1), np.float32(img2)\n",
    "    # Calculate weights for each image\n",
    "    w = 1 / (1 + np.exp(-k*np.arange(-overlap/2, overlap/2)))\n",
    "    weights1 = w[::-1].reshape(1, -1, 1)  # Weight for img1 decreases\n",
    "    weights2 = w.reshape(1, -1, 1)  # Weight for img2 increases\n",
    "    # Apply weighted smoothing to eliminate seams\n",
    "    seam_smoothed = img1[:, -overlap:] * weights1 + img2[:, :overlap] * weights2\n",
    "    # Combine images with only non-overlapping regions from each\n",
    "    result = np.hstack((img1[:, :-overlap], seam_smoothed, img2[:, overlap:]))\n",
    "    target = Image.fromarray(np.uint8(result))\n",
    "    return target"
   ]
  },
  {
   "cell_type": "markdown",
   "id": "514f33d7-f674-4e4d-9442-fbadd4bcef41",
   "metadata": {},
   "source": [
    "### Save high-resolution pictures"
   ]
  },
  {
   "cell_type": "code",
   "execution_count": 3,
   "id": "1486eb2f-da98-4cac-8f62-64cf654932d7",
   "metadata": {},
   "outputs": [],
   "source": [
    "urls = urls[0:1]\n",
    "\n",
    "# It is wise to preload web pages with images to be processed to avoid unforseen errors\n",
    "if __name__ == '__main__':\n",
    "    overlap_w, overlap_h = 42, 50\n",
    "    \n",
    "    # Center point coordinates\n",
    "    (xs, ys) = coordinates_capture(overlap_w, overlap_h)\n",
    "    \n",
    "    # Run functions and save high-resolution pictures\n",
    "    for i in range(len(urls)):\n",
    "        imgs = []\n",
    "        for x in xs:\n",
    "            for y in ys:\n",
    "                imgs.append(image_crop(urls[i], x, y))\n",
    "        \n",
    "        picture = image_concat(imgs, xs, ys)\n",
    "        picture = picture.crop((1,3,480,630))\n",
    "        picture.save(path + 'picture_' + str(i+1) + '.jpg', quality=95)\n",
    "        # plt.imshow(picture)\n",
    "        # plt.show()"
   ]
  },
  {
   "cell_type": "code",
   "execution_count": 4,
   "id": "e049ac7b-3a6b-469e-8dda-0d2c63f51c95",
   "metadata": {},
   "outputs": [],
   "source": [
    "# It is wise to preload web pages with images to be processed to avoid unforseen errors\n",
    "if __name__ == '__main__':\n",
    "    overlap_w, overlap_h = 42, 50\n",
    "    \n",
    "    # Adjust k to obtain the best image fusion effect\n",
    "    k = 0.2\n",
    "    \n",
    "    # Center point coordinates\n",
    "    (xs, ys) = coordinates_capture(overlap_w, overlap_h)\n",
    "    \n",
    "    # Run functions and save high-resolution pictures\n",
    "    for i in range(len(urls)):\n",
    "        himgs = []\n",
    "        for x in xs:\n",
    "            vimgs = []\n",
    "            for y in ys:\n",
    "                vimgs.append(image_crop(urls[i], x, y))\n",
    "            vimg = image_stitch_UD(vimgs[0], vimgs[1], overlap_h, k)\n",
    "            for vi in range(2, len(ys)):\n",
    "                vimg = image_stitch_UD(vimg, vimgs[vi], overlap_h, k)\n",
    "            himgs.append(vimg)\n",
    "        himg = image_stitch_LR(himgs[0], himgs[1], overlap_w, k)\n",
    "        for hi in range(2, len(xs)):\n",
    "            himg = image_stitch_LR(himg, himgs[hi], overlap_w, k)\n",
    "        target_pic = himg.crop((2,2,482,632))\n",
    "        target_pic.save(path + 'picture_' + str(i+1) + '.jpg', quality=95)\n",
    "        # plt.imshow(target_pic)\n",
    "        # plt.show()"
   ]
  },
  {
   "cell_type": "code",
   "execution_count": null,
   "id": "2147534c-daaa-424b-949f-8bccf9962be0",
   "metadata": {},
   "outputs": [],
   "source": []
  }
 ],
 "metadata": {
  "kernelspec": {
   "display_name": "Python 3 (ipykernel)",
   "language": "python",
   "name": "python3"
  },
  "language_info": {
   "codemirror_mode": {
    "name": "ipython",
    "version": 3
   },
   "file_extension": ".py",
   "mimetype": "text/x-python",
   "name": "python",
   "nbconvert_exporter": "python",
   "pygments_lexer": "ipython3",
   "version": "3.11.7"
  }
 },
 "nbformat": 4,
 "nbformat_minor": 5
}
