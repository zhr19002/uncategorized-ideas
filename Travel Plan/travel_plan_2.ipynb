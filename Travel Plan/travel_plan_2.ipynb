{
 "cells": [
  {
   "cell_type": "markdown",
   "id": "db9fd7ac-d68e-4572-9111-14555847762a",
   "metadata": {},
   "source": [
    "## California Attractions Overview"
   ]
  },
  {
   "cell_type": "markdown",
   "id": "d635bf38-99a2-48ee-ad97-269a594fef15",
   "metadata": {},
   "source": [
    "<div style=\"text-align: center;\"><img src=\"map-3.png\" alt=\"map-3\" width=\"400\" height=\"672\"></div>"
   ]
  },
  {
   "cell_type": "markdown",
   "id": "bcee2338-b473-489b-8951-5c1d69997cc8",
   "metadata": {},
   "source": [
    "### Attractions distance table (unit: miles)"
   ]
  },
  {
   "cell_type": "markdown",
   "id": "0171dc79-9e42-446c-9164-de015af1fd71",
   "metadata": {},
   "source": [
    "| Attractions        | Redwood | Mendocino | Lassen Volcano | Point Reyes | Lake Tahoe | Monterey | Pinnacles | Pismo Beach | Santa Barbara | Kings Canyon | Sequoia | Death Valley | Joshua Tree | San Diego |\n",
    "|:------------------:|:-------:|:---------:|:--------------:|:-----------:|:----------:|:--------:|:---------:|:-----------:|:-------------:|:----------------:|:-------:|:------------:|:-----------:|:---------:|\n",
    "| **Redwood**        |   0     |   183     |      214       |     292     |    381     |   426    |    431    |     551     |      633      |       539        |   563   |     662      |     804     |    810    |\n",
    "| **Mendocino**      |   \\     |    0      |      257       |     135     |    271     |   269    |    274    |     394     |      476      |       382        |   406   |     561      |     661     |    653    |\n",
    "| **Lassen Volcano** |   \\     |    \\      |       0        |     245     |    151     |   334    |    339    |     459     |      541      |       405        |   429   |     447      |     678     |    690    |\n",
    "| **Point Reyes**    |   \\     |    \\      |       \\        |      0      |    209     |   157    |    162    |     282     |      364      |       270        |   294   |     461      |     549     |    540    |\n",
    "| **Lake Tahoe**     |   \\     |    \\      |       \\        |      \\      |     0      |   293    |    286    |     418     |      500      |       315        |   339   |     270      |     475     |    529    |\n",
    "| **Monterey**       |   \\     |    \\      |       \\        |      \\      |     \\      |    0     |     52    |     154     |      235      |       206        |   230   |     397      |     447     |    438    |\n",
    "| **Pinnacles**      |   \\     |    \\      |       \\        |      \\      |     \\      |    \\     |     0     |     121     |      202      |       173        |   169   |     347      |     385     |    388    |\n",
    "| **Pismo Beach**    |   \\     |    \\      |       \\        |      \\      |     \\      |    \\     |     \\     |      0      |       82      |       202        |   182   |     299      |     309     |    296    |\n",
    "| **Santa Barbara**  |   \\     |    \\      |       \\        |      \\      |     \\      |    \\     |     \\     |      \\      |       0       |       275        |   239   |     259      |     228     |    215    |\n",
    "| **Kings Canyon**   |   \\     |    \\      |       \\        |      \\      |     \\      |    \\     |     \\     |      \\      |       \\       |        0         |   11    |     310      |     349     |    361    |\n",
    "| **Sequoia**        |   \\     |    \\      |       \\        |      \\      |     \\      |    \\     |     \\     |      \\      |       \\       |        \\         |   0     |     273      |     311     |    324    |\n",
    "| **Death Valley**   |   \\     |    \\      |       \\        |      \\      |     \\      |    \\     |     \\     |      \\      |       \\       |        \\         |   \\     |      0       |     227     |    282    |\n",
    "| **Joshua Tree**    |   \\     |    \\      |       \\        |      \\      |     \\      |    \\     |     \\     |      \\      |       \\       |        \\         |   \\     |      \\       |      0      |    164    |\n",
    "| **San Diego**      |   \\     |    \\      |       \\        |      \\      |     \\      |    \\     |     \\     |      \\      |       \\       |        \\         |   \\     |      \\       |      \\      |     0     |"
   ]
  },
  {
   "cell_type": "markdown",
   "id": "3d011837-978d-4809-81b8-4b783841d764",
   "metadata": {},
   "source": [
    "### Airports-attractions distance table (unit: miles)"
   ]
  },
  {
   "cell_type": "markdown",
   "id": "9bbdf0d5-5f70-4834-b995-b3b20d6de8dc",
   "metadata": {},
   "source": [
    "| Airport  | Redwood | Mendocino | Lassen Volcano | Point Reyes | Lake Tahoe | Monterey | Pinnacles | Pismo Beach | Santa Barbara | Kings Canyon | Sequoia | Death Valley | Joshua Tree | San Diego |\n",
    "|:--------:|:-------:|:---------:|:--------------:|:-----------:|:----------:|:--------:|:---------:|:-----------:|:-------------:|:------------:|:------------:|:------------:|:-----------:|:---------:|\n",
    "| **SFO**  |   332   |    176    |      247       |      56     |    211     |   115    |    120    |     240     |      322      |     241      |   265     |     466      |     504     |    497    |\n",
    "| **LAX**  |   695   |    536    |      570       |     422     |    453     |   325    |    273    |     178     |       98      |     246      |   208     |     224      |     146     |    124    |\n",
    "| **LAS**  |   868   |    711    |      561       |     599     |    448     |   501    |    449    |     402     |      343      |     411      |   375     |     105      |     182     |    327    |"
   ]
  },
  {
   "cell_type": "markdown",
   "id": "741a5672-cb44-4310-b73e-dff0d13a3c51",
   "metadata": {},
   "source": [
    "### Dynamic Programming"
   ]
  },
  {
   "cell_type": "markdown",
   "id": "a886a1fa-68da-41f4-a592-679840c1773d",
   "metadata": {},
   "source": [
    "- The \"mask\" set is represented in binary\n",
    "- dp[v][new_mask] = min(dp[u][mask] + graph[u][v])\n",
    "- Time complexity is $O(2^n \\cdot n^2)$"
   ]
  },
  {
   "cell_type": "code",
   "execution_count": 1,
   "id": "3222ebe4-f1c1-4dfa-b55b-fbfa49b543d1",
   "metadata": {},
   "outputs": [],
   "source": [
    "def tsp_dp(graph):\n",
    "    n = len(graph)\n",
    "    \n",
    "    # Initialize memoization table\n",
    "    dp = [[float('inf')] * (1 << n) for _ in range(n)]\n",
    "    dp[0][1] = 0  # Start at node 0 with only node 0 visited\n",
    "    \n",
    "    # Precompute the paths for reconstruction\n",
    "    path = [[-1] * (1 << n) for _ in range(n)]\n",
    "    \n",
    "    # Fill in the dp table\n",
    "    for mask in range(1 << n):\n",
    "        for u in range(n):\n",
    "            # If node u is not included in the current mask, skip to the next iteration\n",
    "            if not (mask & (1 << u)):\n",
    "                continue\n",
    "            \n",
    "            # Try to go to a new node v (not included in the mask) from u\n",
    "            for v in range(n):\n",
    "                # Exclude already visited node v\n",
    "                if mask & (1 << v):\n",
    "                    continue\n",
    "                \n",
    "                # Update the mask of visited nodes including node v\n",
    "                new_mask = mask | (1 << v)\n",
    "                \n",
    "                # Calculate the total distance to reach v\n",
    "                new_dist = dp[u][mask] + graph[u][v]\n",
    "                \n",
    "                # Update the dp table if found a shorter path to reach v\n",
    "                if new_dist < dp[v][new_mask]:\n",
    "                    dp[v][new_mask] = new_dist\n",
    "                    path[v][new_mask] = u\n",
    "    \n",
    "    # Find the minimum distance\n",
    "    min_dist = float('inf')\n",
    "    final_mask = (1 << n) - 1  # All nodes visited\n",
    "    last_node = -1\n",
    "    for u in range(1, n):\n",
    "        dist = dp[u][final_mask] + graph[u][0]  # Return to starting node\n",
    "        if dist < min_dist:\n",
    "            min_dist = dist\n",
    "            last_node = u\n",
    "    \n",
    "    # Reconstruct the path\n",
    "    short_path = []\n",
    "    mask = final_mask\n",
    "    for _ in range(n):\n",
    "        short_path.append(last_node)\n",
    "        next_node = path[last_node][mask]\n",
    "        mask ^= (1 << last_node) # Remove last_node from the set of visited nodes\n",
    "        last_node = next_node  \n",
    "    short_path = [short_path[-1]] + short_path[:-1]\n",
    "    \n",
    "    return min_dist, short_path"
   ]
  },
  {
   "cell_type": "markdown",
   "id": "3f5520ef-563e-4111-867e-318e278d9f1c",
   "metadata": {},
   "source": [
    "### Main Function"
   ]
  },
  {
   "cell_type": "code",
   "execution_count": 6,
   "id": "85e28e29-8483-4c0a-bbd8-0ecd18b7d7bf",
   "metadata": {},
   "outputs": [],
   "source": [
    "# Determine the starting node\n",
    "Airport = 'LAS'\n",
    "\n",
    "np_dic = {'Redwood':1, 'Mendocino':2, 'Lassen Volcano':3, 'Point Reyes':4, 'Lake Tahoe':5,\n",
    "          'Monterey':6, 'Pinnacles':7, 'Pismo Beach':8, 'Santa Barbara':9, 'Kings Canyon':10,\n",
    "          'Sequoia':11, 'Death Valley':12, 'Joshua Tree':13, 'San Diego':14}\n",
    "\n",
    "np_dic[Airport] = 0\n",
    "\n",
    "graph = [[0, 0, 0, 0, 0, 0, 0, 0, 0, 0, 0, 0, 0, 0, 0],\n",
    "         [0, 0, 183, 214, 292, 381, 426, 431, 551, 633, 539, 563, 662, 804, 810],\n",
    "         [0, 0, 0, 257, 135, 271, 269, 274, 394, 476, 382, 406, 561, 661, 653],\n",
    "         [0, 0, 0, 0, 245, 151, 334, 339, 459, 541, 405, 429, 447, 678, 690],\n",
    "         [0, 0, 0, 0, 0, 209, 157, 162, 282, 364, 270, 294, 461, 549, 540],\n",
    "         [0, 0, 0, 0, 0, 0, 293, 286, 418, 500, 315, 339, 270, 475, 529],\n",
    "         [0, 0, 0, 0, 0, 0, 0, 52, 154, 235, 206, 230, 397, 447, 438],\n",
    "         [0, 0, 0, 0, 0, 0, 0, 0, 121, 202, 173, 169, 347, 385, 388],\n",
    "         [0, 0, 0, 0, 0, 0, 0, 0, 0, 82, 202, 182, 299, 309, 296],\n",
    "         [0, 0, 0, 0, 0, 0, 0, 0, 0, 0, 275, 239, 259, 228, 215],\n",
    "         [0, 0, 0, 0, 0, 0, 0, 0, 0, 0, 0, 11, 310, 349, 361],\n",
    "         [0, 0, 0, 0, 0, 0, 0, 0, 0, 0, 0, 0, 273, 311, 324],\n",
    "         [0, 0, 0, 0, 0, 0, 0, 0, 0, 0, 0, 0, 0, 227, 282],\n",
    "         [0, 0, 0, 0, 0, 0, 0, 0, 0, 0, 0, 0, 0, 0, 164],\n",
    "         [0, 0, 0, 0, 0, 0, 0, 0, 0, 0, 0, 0, 0, 0, 0]]\n",
    "\n",
    "if Airport == 'SFO':\n",
    "    graph[0] = [0, 332, 176, 247, 56, 211, 115, 120, 240, 322, 241, 265, 466, 504, 497]\n",
    "elif Airport == 'LAX':\n",
    "    graph[0] = [0, 695, 536, 570, 422, 453, 325, 273, 178, 98, 246, 208, 224, 146, 124]\n",
    "else:\n",
    "    graph[0] = [0, 868, 711, 561, 599, 448, 501, 449, 402, 343, 411, 375, 105, 182, 327]\n",
    "\n",
    "for i in range(len(graph)):\n",
    "    for j in range(i+1, len(graph)):\n",
    "        graph[j][i] = graph[i][j]"
   ]
  },
  {
   "cell_type": "markdown",
   "id": "cb7e3e74-d532-49f0-a9d1-881f45189f9d",
   "metadata": {},
   "source": [
    "### Scenario 1: Start from San Francisco (SFO)"
   ]
  },
  {
   "cell_type": "code",
   "execution_count": 3,
   "id": "62da4513-dbba-4804-9223-959110fe6bf8",
   "metadata": {},
   "outputs": [
    {
     "name": "stdout",
     "output_type": "stream",
     "text": [
      "Shortest path: ['SFO', 'Point Reyes', 'Mendocino', 'Redwood', 'Lassen Volcano', 'Lake Tahoe', 'Death Valley', 'Joshua Tree', 'San Diego', 'Santa Barbara', 'Pismo Beach', 'Sequoia', 'Kings Canyon', 'Pinnacles', 'Monterey']\n",
      "Minimum distance: 2230\n"
     ]
    }
   ],
   "source": [
    "min_dist, short_path = tsp_dp(graph)\n",
    "best_path = [key for value in short_path for key, val in np_dic.items() if val == value]\n",
    "print(\"Shortest path:\", best_path)\n",
    "print(\"Minimum distance:\", min_dist)"
   ]
  },
  {
   "cell_type": "markdown",
   "id": "28e3d656-27a1-4910-8180-26a699685248",
   "metadata": {},
   "source": [
    "### Scenario 2: Start from Los Angeles (LAX)"
   ]
  },
  {
   "cell_type": "code",
   "execution_count": 5,
   "id": "619e3a14-ab38-4b9d-a6d1-276d850d4ae5",
   "metadata": {},
   "outputs": [
    {
     "name": "stdout",
     "output_type": "stream",
     "text": [
      "Shortest path: ['LAX', 'Santa Barbara', 'Pismo Beach', 'Sequoia', 'Kings Canyon', 'Pinnacles', 'Monterey', 'Point Reyes', 'Mendocino', 'Redwood', 'Lassen Volcano', 'Lake Tahoe', 'Death Valley', 'Joshua Tree', 'San Diego']\n",
      "Minimum distance: 2223\n"
     ]
    }
   ],
   "source": [
    "min_dist, short_path = tsp_dp(graph)\n",
    "best_path = [key for value in short_path for key, val in np_dic.items() if val == value]\n",
    "print(\"Shortest path:\", best_path)\n",
    "print(\"Minimum distance:\", min_dist)"
   ]
  },
  {
   "cell_type": "markdown",
   "id": "34d74495-35c4-4927-9efe-77aaee5384bf",
   "metadata": {},
   "source": [
    "### Scenario 3: Start from Las Vegas (LAS)"
   ]
  },
  {
   "cell_type": "code",
   "execution_count": 7,
   "id": "32e854be-a7e8-4392-b5f2-9a6d33490c2e",
   "metadata": {},
   "outputs": [
    {
     "name": "stdout",
     "output_type": "stream",
     "text": [
      "Shortest path: ['LAS', 'Joshua Tree', 'San Diego', 'Santa Barbara', 'Pismo Beach', 'Sequoia', 'Kings Canyon', 'Pinnacles', 'Monterey', 'Point Reyes', 'Mendocino', 'Redwood', 'Lassen Volcano', 'Lake Tahoe', 'Death Valley']\n",
      "Minimum distance: 2276\n"
     ]
    }
   ],
   "source": [
    "min_dist, short_path = tsp_dp(graph)\n",
    "best_path = [key for value in short_path for key, val in np_dic.items() if val == value]\n",
    "best_path.append(best_path.pop(0))\n",
    "best_path.reverse()\n",
    "\n",
    "print(\"Shortest path:\", best_path)\n",
    "print(\"Minimum distance:\", min_dist)"
   ]
  },
  {
   "cell_type": "markdown",
   "id": "8f201ccd-ef21-4a0d-959f-b90c02ed7cb6",
   "metadata": {},
   "source": [
    "### Best Route"
   ]
  },
  {
   "cell_type": "markdown",
   "id": "9295a32e-1912-4c39-bb93-e87cc38c6fe4",
   "metadata": {},
   "source": [
    "<div style=\"text-align: center;\"><img src=\"map-4.png\" alt=\"map-4\" width=\"400\" height=\"672\"></div>"
   ]
  }
 ],
 "metadata": {
  "kernelspec": {
   "display_name": "Python 3 (ipykernel)",
   "language": "python",
   "name": "python3"
  },
  "language_info": {
   "codemirror_mode": {
    "name": "ipython",
    "version": 3
   },
   "file_extension": ".py",
   "mimetype": "text/x-python",
   "name": "python",
   "nbconvert_exporter": "python",
   "pygments_lexer": "ipython3",
   "version": "3.11.7"
  }
 },
 "nbformat": 4,
 "nbformat_minor": 5
}
