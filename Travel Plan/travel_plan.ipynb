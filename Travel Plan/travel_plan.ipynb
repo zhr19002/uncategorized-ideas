{
 "cells": [
  {
   "cell_type": "markdown",
   "id": "db9fd7ac-d68e-4572-9111-14555847762a",
   "metadata": {},
   "source": [
    "## Southern Oregon & California National Parks Overview"
   ]
  },
  {
   "cell_type": "markdown",
   "id": "e0fbcdc2-fe40-435d-b5bb-139262cd3e3e",
   "metadata": {},
   "source": [
    "![Map_0](map-0.jpg)"
   ]
  },
  {
   "cell_type": "markdown",
   "id": "bcee2338-b473-489b-8951-5c1d69997cc8",
   "metadata": {},
   "source": [
    "### National parks distance info (unit: miles)"
   ]
  },
  {
   "cell_type": "markdown",
   "id": "0171dc79-9e42-446c-9164-de015af1fd71",
   "metadata": {},
   "source": [
    "| National Parks   | Crater Lake | Redwood | Lassen Volcano | Pinnacles | Kings Canyon | Sequoia | Death Valley | Joshua Tree | San Diego |\n",
    "|:----------------:|:-----------:|:-------:|:--------------:|:---------:|:------------:|:-------:|:------------:|:-----------:|:---------:|\n",
    "| Crater Lake      |      0      |   179   |      224       |    518    |      580     |   604   |      619     |     853     |    868    |\n",
    "| Redwood          |      \\      |    0    |      214       |    431    |      541     |   565   |      662     |     814     |    810    |\n",
    "| Lassen Volcano   |      \\      |    \\    |       0        |    339    |      402     |   426   |      458     |     675     |    690    |\n",
    "| Pinnacles        |      \\      |    \\    |       \\        |     0     |      195     |   169   |      347     |     398     |    388    |\n",
    "| Kings Canyon     |      \\      |    \\    |       \\        |     \\     |       0      |    11   |      310     |     349     |    364    |\n",
    "| Sequoia          |      \\      |    \\    |       \\        |     \\     |       \\      |    0    |      273     |     311     |    324    |\n",
    "| Death Valley     |      \\      |    \\    |       \\        |     \\     |       \\      |    \\    |       0      |     227     |    282    |\n",
    "| Joshua Tree      |      \\      |    \\    |       \\        |     \\     |       \\      |    \\    |       \\      |      0      |    164    |\n",
    "| San Diego        |      \\      |    \\    |       \\        |     \\     |       \\      |    \\    |       \\      |      \\      |     0     |"
   ]
  },
  {
   "cell_type": "markdown",
   "id": "3d011837-978d-4809-81b8-4b783841d764",
   "metadata": {},
   "source": [
    "### Airports to national parks distance info (unit: miles)"
   ]
  },
  {
   "cell_type": "markdown",
   "id": "9bbdf0d5-5f70-4834-b995-b3b20d6de8dc",
   "metadata": {},
   "source": [
    "| Airport | Crater Lake | Redwood | Lassen Volcano | Pinnacles | Kings Canyon | Sequoia | Death Valley | Joshua Tree | San Diego |\n",
    "|:-------:|:-----------:|:-------:|:--------------:|:---------:|:------------:|:-------:|:------------:|:-----------:|:---------:|\n",
    "|   SFO   |     409     |   357   |      247       |    112    |      241     |   265   |      456     |     508     |    497    |\n",
    "|   LAX   |     738     |   720   |      576       |    277    |      249     |   212   |      224     |     148     |    124    |\n",
    "|   LAS   |     728     |   892   |      561       |    449    |      411     |   375   |      105     |     182     |    327    |"
   ]
  },
  {
   "cell_type": "markdown",
   "id": "3b7df448-fb67-4692-8aad-fd2b1a8bf52a",
   "metadata": {},
   "source": [
    "### Method 1: Enumeration"
   ]
  },
  {
   "cell_type": "markdown",
   "id": "e9b75b8f-ce58-4fa8-bbce-c413821180b9",
   "metadata": {},
   "source": [
    "- Time complexity is $O(n! \\cdot n)$"
   ]
  },
  {
   "cell_type": "code",
   "execution_count": 1,
   "id": "04bedc47-d80f-4578-b643-b1412e5acfd2",
   "metadata": {},
   "outputs": [],
   "source": [
    "import itertools\n",
    "\n",
    "def get_dist(graph, path):\n",
    "    dist = 0\n",
    "    for i in range(len(path)-1):\n",
    "        dist += graph[path[i]][path[i+1]]\n",
    "    # Return to the starting node\n",
    "    dist += graph[path[-1]][path[0]]\n",
    "    return dist\n",
    "\n",
    "def tsp(graph):\n",
    "    # Generate all permutations of nodes (except the starting node 0)\n",
    "    nodes = list(range(1, len(graph)))\n",
    "    min_dist = float('inf')\n",
    "    best_path = None\n",
    "    \n",
    "    for perm in itertools.permutations(nodes):\n",
    "        # Create a full path starting and ending at node 0\n",
    "        cur_path = [0] + list(perm)\n",
    "        cur_dist = get_dist(graph, cur_path)\n",
    "        \n",
    "        if cur_dist < min_dist:\n",
    "            min_dist = cur_dist\n",
    "            best_path = cur_path\n",
    "    \n",
    "    return min_dist, best_path"
   ]
  },
  {
   "cell_type": "markdown",
   "id": "741a5672-cb44-4310-b73e-dff0d13a3c51",
   "metadata": {},
   "source": [
    "### Method 2: Dynamic Programming"
   ]
  },
  {
   "cell_type": "markdown",
   "id": "a886a1fa-68da-41f4-a592-679840c1773d",
   "metadata": {},
   "source": [
    "- The \"mask\" set is represented in binary\n",
    "- dp[v][new_mask] = min(dp[u][mask] + graph[u][v])\n",
    "- Time complexity is $O(2^n \\cdot n^2)$"
   ]
  },
  {
   "cell_type": "code",
   "execution_count": 2,
   "id": "3222ebe4-f1c1-4dfa-b55b-fbfa49b543d1",
   "metadata": {},
   "outputs": [],
   "source": [
    "def tsp_dp(graph):\n",
    "    n = len(graph)\n",
    "    \n",
    "    # Initialize memoization table\n",
    "    dp = [[float('inf')] * (1 << n) for _ in range(n)]\n",
    "    dp[0][1] = 0  # Start at node 0 with only node 0 visited\n",
    "    \n",
    "    # Precompute the paths for reconstruction\n",
    "    path = [[-1] * (1 << n) for _ in range(n)]\n",
    "    \n",
    "    # Fill in the dp table\n",
    "    for mask in range(1 << n):\n",
    "        for u in range(n):\n",
    "            # If node u is not included in the current mask, skip to the next iteration\n",
    "            if not (mask & (1 << u)):\n",
    "                continue\n",
    "            \n",
    "            # Try to go to a new node v (not included in the mask) from u\n",
    "            for v in range(n):\n",
    "                # Exclude already visited node v\n",
    "                if mask & (1 << v):\n",
    "                    continue\n",
    "                \n",
    "                # Update the mask of visited nodes including node v\n",
    "                new_mask = mask | (1 << v)\n",
    "                \n",
    "                # Calculate the total distance to reach v\n",
    "                new_dist = dp[u][mask] + graph[u][v]\n",
    "                \n",
    "                # Update the dp table if found a shorter path to reach v\n",
    "                if new_dist < dp[v][new_mask]:\n",
    "                    dp[v][new_mask] = new_dist\n",
    "                    path[v][new_mask] = u\n",
    "    \n",
    "    # Find the minimum distance\n",
    "    min_dist = float('inf')\n",
    "    final_mask = (1 << n) - 1  # All nodes visited\n",
    "    last_node = -1\n",
    "    for u in range(1, n):\n",
    "        dist = dp[u][final_mask] + graph[u][0]  # Return to starting node\n",
    "        if dist < min_dist:\n",
    "            min_dist = dist\n",
    "            last_node = u\n",
    "    \n",
    "    # Reconstruct the path\n",
    "    short_path = []\n",
    "    mask = final_mask\n",
    "    for _ in range(n):\n",
    "        short_path.append(last_node)\n",
    "        next_node = path[last_node][mask]\n",
    "        mask ^= (1 << last_node) # Remove last_node from the set of visited nodes\n",
    "        last_node = next_node  \n",
    "    short_path = [short_path[-1]] + short_path[:-1]\n",
    "    \n",
    "    return min_dist, short_path"
   ]
  },
  {
   "cell_type": "markdown",
   "id": "3f5520ef-563e-4111-867e-318e278d9f1c",
   "metadata": {},
   "source": [
    "### Main Function"
   ]
  },
  {
   "cell_type": "code",
   "execution_count": 9,
   "id": "85e28e29-8483-4c0a-bbd8-0ecd18b7d7bf",
   "metadata": {},
   "outputs": [],
   "source": [
    "# Determine the starting node\n",
    "Airport = 'LAS'\n",
    "\n",
    "np_dic = {'Crater Lake':1, 'Redwood':2, 'Lassen Volcano':3,\n",
    "          'Pinnacles':4, 'Kings Canyon':5, 'Sequoia':6,\n",
    "          'Death Valley':7, 'Joshua Tree':8, 'San Diego':9}\n",
    "\n",
    "np_dic[Airport] = 0\n",
    "\n",
    "graph = [[0, 0, 0, 0, 0, 0, 0, 0, 0, 0],\n",
    "         [0, 0, 179, 224, 518, 580, 604, 619, 853, 868],\n",
    "         [0, 0, 0, 214, 431, 541, 565, 662, 814, 810],\n",
    "         [0, 0, 0, 0, 339, 402, 426, 458, 675, 690],\n",
    "         [0, 0, 0, 0, 0, 195, 169, 347, 398, 388],\n",
    "         [0, 0, 0, 0, 0, 0,\t11, 310, 349, 364],\n",
    "         [0, 0, 0, 0, 0, 0,\t0, 273, 311, 324],\n",
    "         [0, 0, 0, 0, 0, 0, 0, 0, 227, 282],\n",
    "         [0, 0, 0, 0, 0, 0, 0, 0, 0, 164],\n",
    "         [0, 0, 0, 0, 0, 0, 0, 0, 0, 0]]\n",
    "\n",
    "if Airport == 'SFO':\n",
    "    graph[0] = [0, 409, 357, 247, 112, 241, 265, 456, 508, 497]\n",
    "elif Airport == 'LAX':\n",
    "    graph[0] = [0, 738, 720, 576, 277, 249, 212, 224, 148, 124]\n",
    "else:\n",
    "    graph[0] = [0, 728, 892, 561, 449, 411, 375, 105, 182, 327]\n",
    "\n",
    "for i in range(len(graph)):\n",
    "    for j in range(i+1, len(graph)):\n",
    "        graph[j][i] = graph[i][j]"
   ]
  },
  {
   "cell_type": "markdown",
   "id": "cb7e3e74-d532-49f0-a9d1-881f45189f9d",
   "metadata": {},
   "source": [
    "### Scenario 1: Start from San Francisco (SFO)"
   ]
  },
  {
   "cell_type": "code",
   "execution_count": 4,
   "id": "ddd4db7c-b7c4-4cfa-a504-bec1764b19e9",
   "metadata": {},
   "outputs": [
    {
     "name": "stdout",
     "output_type": "stream",
     "text": [
      "Shortest path: ['SFO', 'Redwood', 'Crater Lake', 'Lassen Volcano', 'Death Valley', 'Joshua Tree', 'San Diego', 'Sequoia', 'Kings Canyon', 'Pinnacles']\n",
      "Minimum distance: 2251\n"
     ]
    }
   ],
   "source": [
    "min_dist, short_path = tsp(graph)\n",
    "best_path = [key for value in short_path for key, val in np_dic.items() if val == value]\n",
    "print(\"Shortest path:\", best_path)\n",
    "print(\"Minimum distance:\", min_dist)"
   ]
  },
  {
   "cell_type": "code",
   "execution_count": 5,
   "id": "62da4513-dbba-4804-9223-959110fe6bf8",
   "metadata": {},
   "outputs": [
    {
     "name": "stdout",
     "output_type": "stream",
     "text": [
      "Shortest path: ['SFO', 'Redwood', 'Crater Lake', 'Lassen Volcano', 'Death Valley', 'Joshua Tree', 'San Diego', 'Sequoia', 'Kings Canyon', 'Pinnacles']\n",
      "Minimum distance: 2251\n"
     ]
    }
   ],
   "source": [
    "min_dist, short_path = tsp_dp(graph)\n",
    "best_path = [key for value in short_path for key, val in np_dic.items() if val == value]\n",
    "print(\"Shortest path:\", best_path)\n",
    "print(\"Minimum distance:\", min_dist)"
   ]
  },
  {
   "cell_type": "markdown",
   "id": "4f950c58-1890-4b2d-a821-1656a9930292",
   "metadata": {},
   "source": [
    "![Map_1](map-1.jpg)"
   ]
  },
  {
   "cell_type": "markdown",
   "id": "28e3d656-27a1-4910-8180-26a699685248",
   "metadata": {},
   "source": [
    "### Scenario 2: Start from Los Angeles (LAX)"
   ]
  },
  {
   "cell_type": "code",
   "execution_count": 7,
   "id": "4568f1e3-18c5-4133-b513-e00c4c4d8365",
   "metadata": {},
   "outputs": [
    {
     "name": "stdout",
     "output_type": "stream",
     "text": [
      "Shortest path: ['LAX', 'Sequoia', 'Kings Canyon', 'Pinnacles', 'Redwood', 'Crater Lake', 'Lassen Volcano', 'Death Valley', 'Joshua Tree', 'San Diego']\n",
      "Minimum distance: 2225\n"
     ]
    }
   ],
   "source": [
    "min_dist, short_path = tsp(graph)\n",
    "best_path = [key for value in short_path for key, val in np_dic.items() if val == value]\n",
    "print(\"Shortest path:\", best_path)\n",
    "print(\"Minimum distance:\", min_dist)"
   ]
  },
  {
   "cell_type": "code",
   "execution_count": 8,
   "id": "619e3a14-ab38-4b9d-a6d1-276d850d4ae5",
   "metadata": {},
   "outputs": [
    {
     "name": "stdout",
     "output_type": "stream",
     "text": [
      "Shortest path: ['LAX', 'Sequoia', 'Kings Canyon', 'Pinnacles', 'Redwood', 'Crater Lake', 'Lassen Volcano', 'Death Valley', 'Joshua Tree', 'San Diego']\n",
      "Minimum distance: 2225\n"
     ]
    }
   ],
   "source": [
    "min_dist, short_path = tsp_dp(graph)\n",
    "best_path = [key for value in short_path for key, val in np_dic.items() if val == value]\n",
    "print(\"Shortest path:\", best_path)\n",
    "print(\"Minimum distance:\", min_dist)"
   ]
  },
  {
   "cell_type": "markdown",
   "id": "4e4fbd97-e90a-4276-8dd3-64860d4b0156",
   "metadata": {},
   "source": [
    "![Map_2](map-2.jpg)"
   ]
  },
  {
   "cell_type": "markdown",
   "id": "34d74495-35c4-4927-9efe-77aaee5384bf",
   "metadata": {},
   "source": [
    "### Scenario 3: Start from Las Vegas (LAS)"
   ]
  },
  {
   "cell_type": "code",
   "execution_count": 10,
   "id": "23946b48-1651-4920-bc33-9a99f76eb4f6",
   "metadata": {},
   "outputs": [
    {
     "name": "stdout",
     "output_type": "stream",
     "text": [
      "Shortest path: ['LAS', 'Death Valley', 'Lassen Volcano', 'Crater Lake', 'Redwood', 'Pinnacles', 'Kings Canyon', 'Sequoia', 'San Diego', 'Joshua Tree']\n",
      "Minimum distance: 2273\n"
     ]
    }
   ],
   "source": [
    "min_dist, short_path = tsp(graph)\n",
    "best_path = [key for value in short_path for key, val in np_dic.items() if val == value]\n",
    "print(\"Shortest path:\", best_path)\n",
    "print(\"Minimum distance:\", min_dist)"
   ]
  },
  {
   "cell_type": "code",
   "execution_count": 11,
   "id": "32e854be-a7e8-4392-b5f2-9a6d33490c2e",
   "metadata": {},
   "outputs": [
    {
     "name": "stdout",
     "output_type": "stream",
     "text": [
      "Shortest path: ['LAS', 'Death Valley', 'Lassen Volcano', 'Crater Lake', 'Redwood', 'Pinnacles', 'Kings Canyon', 'Sequoia', 'San Diego', 'Joshua Tree']\n",
      "Minimum distance: 2273\n"
     ]
    }
   ],
   "source": [
    "min_dist, short_path = tsp_dp(graph)\n",
    "best_path = [key for value in short_path for key, val in np_dic.items() if val == value]\n",
    "print(\"Shortest path:\", best_path)\n",
    "print(\"Minimum distance:\", min_dist)"
   ]
  },
  {
   "cell_type": "markdown",
   "id": "663b3850-95fe-44db-b0c7-7c71633fe6b3",
   "metadata": {},
   "source": [
    "![Map_3](map-3.jpg)"
   ]
  },
  {
   "cell_type": "markdown",
   "id": "cef491ca-93e7-40a7-9ee5-24f34b39a4da",
   "metadata": {},
   "source": [
    "### Time Complexity Comparison"
   ]
  },
  {
   "cell_type": "code",
   "execution_count": 12,
   "id": "4ad278fe-73c7-4e00-8332-91f34f467d5f",
   "metadata": {},
   "outputs": [
    {
     "data": {
      "image/png": "[encoded data removed]",
      "text/plain": [
       "<Figure size 1000x600 with 1 Axes>"
      ]
     },
     "metadata": {},
     "output_type": "display_data"
    }
   ],
   "source": [
    "import math\n",
    "import numpy as np\n",
    "import matplotlib.pyplot as plt\n",
    "\n",
    "x = np.arange(1,12)\n",
    "y1 = [math.factorial(i) * i for i in x]\n",
    "y2 = [2**i * i**2 for i in x]\n",
    "\n",
    "plt.figure(figsize=(10, 6))\n",
    "plt.plot(x, y1, label='O(n!*n)')\n",
    "plt.plot(x, y2, label='O(2^n*n^2)')\n",
    "\n",
    "plt.xlabel('n')\n",
    "plt.ylabel('Time Complexity')\n",
    "# plt.yscale('log')\n",
    "plt.xticks(x)\n",
    "plt.legend()\n",
    "plt.grid(True)\n",
    "\n",
    "plt.show()"
   ]
  },
  {
   "cell_type": "code",
   "execution_count": null,
   "id": "e789c672-9ddf-4304-abfe-5dab72b28c01",
   "metadata": {},
   "outputs": [],
   "source": []
  }
 ],
 "metadata": {
  "kernelspec": {
   "display_name": "Python 3 (ipykernel)",
   "language": "python",
   "name": "python3"
  },
  "language_info": {
   "codemirror_mode": {
    "name": "ipython",
    "version": 3
   },
   "file_extension": ".py",
   "mimetype": "text/x-python",
   "name": "python",
   "nbconvert_exporter": "python",
   "pygments_lexer": "ipython3",
   "version": "3.11.7"
  }
 },
 "nbformat": 4,
 "nbformat_minor": 5
}
